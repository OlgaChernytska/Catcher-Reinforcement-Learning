{
 "cells": [
  {
   "cell_type": "code",
   "execution_count": 99,
   "metadata": {},
   "outputs": [],
   "source": [
    "import numpy as np\n",
    "import matplotlib.pyplot as plt\n",
    "from ple import PLE\n",
    "from ple.games.catcher import Catcher\n",
    "import pandas as pd\n",
    "import progressbar"
   ]
  },
  {
   "cell_type": "code",
   "execution_count": 120,
   "metadata": {},
   "outputs": [],
   "source": [
    "class LearningAgent():\n",
    "\n",
    "    def __init__(self, actions):\n",
    "        self.actions = actions\n",
    "        self.learning_rate = 0.1\n",
    "        self.discount_factor = 1\n",
    "        self.num_discrete_states = 4\n",
    "        self.exploration_rate = 0.5\n",
    "        self.exploration_decay = 0.99\n",
    "        self.prev_state = None\n",
    "        self.prev_action = None\n",
    "        self.boundaries = {\n",
    "            'player_x': [20, 60],\n",
    "            'player_vel': [-4, 4], \n",
    "            'fruit_x': [20, 80], \n",
    "            'fruit_y': [30, 90]   \n",
    "        }\n",
    "        \n",
    "        self.discrete_states = {\n",
    "            'player_x': np.linspace(self.boundaries['player_x'][0], self.boundaries['player_x'][1], self.num_discrete_states-1),\n",
    "            'player_vel': np.linspace(self.boundaries['player_vel'][0], self.boundaries['player_vel'][1], self.num_discrete_states-1),\n",
    "            'fruit_x': np.linspace(self.boundaries['fruit_x'][0], self.boundaries['fruit_x'][1], self.num_discrete_states-1),\n",
    "            'fruit_y': np.linspace(self.boundaries['fruit_y'][0], self.boundaries['fruit_y'][1], self.num_discrete_states-1)\n",
    "        }\n",
    "        \n",
    "        self.q = self.q_init()\n",
    "\n",
    "    def q_init(self):\n",
    "        q = {}\n",
    "        for i in range(self.num_discrete_states):\n",
    "            for j in range(self.num_discrete_states):\n",
    "                for k in range(self.num_discrete_states):\n",
    "                    for l in range(self.num_discrete_states):\n",
    "                        q[str(i)+str(j)+str(k)+str(l)] = {\n",
    "                                                            self.actions[0]: 0,\n",
    "                                                            self.actions[1]: 0,\n",
    "                                                            self.actions[2]: 0\n",
    "                                                            }\n",
    "        return q\n",
    "                \n",
    "        \n",
    "    def build_state(self, obs):\n",
    "        player_x = str(np.digitize(observation['player_x'], self.discrete_states['player_x']))\n",
    "        player_vel = str(np.digitize(observation['player_vel'], self.discrete_states['player_vel']))\n",
    "        fruit_x = str(np.digitize(observation['fruit_x'], self.discrete_states['fruit_x']))\n",
    "        fruit_y = str(np.digitize(observation['fruit_y'], self.discrete_states['fruit_y']))\n",
    "        \n",
    "        return player_x+player_vel+fruit_x+fruit_y\n",
    "    \n",
    "    def pickAction(self, reward, obs):\n",
    "        # make update\n",
    "        state = self.build_state(obs)\n",
    "        \n",
    "        if self.prev_state != None: \n",
    "            self.q[self.prev_state][self.prev_action] += self.learning_rate * (reward  + \n",
    "                                     self.discount_factor * self.q[state][max(self.q[state], key=self.q[state].get)] -\n",
    "                                     self.q[self.prev_state][self.prev_action] ) \n",
    "        \n",
    "        # select best action\n",
    "        \n",
    "        enable_exploration = (1 - self.exploration_rate) <= np.random.uniform(0, 1)\n",
    "\n",
    "        if enable_exploration:\n",
    "            action = self.actions[np.random.randint(0, len(self.actions))]\n",
    "            self.exploration_rate *= self.exploration_decay \n",
    "        else: \n",
    "            action = max(self.q[state], key=self.q[state].get)\n",
    "        \n",
    "        self.prev_state = state\n",
    "        self.prev_action = action\n",
    "        return action\n",
    "\n",
    "      "
   ]
  },
  {
   "cell_type": "code",
   "execution_count": 121,
   "metadata": {},
   "outputs": [],
   "source": [
    "game = Catcher(width=100, height=100, init_lives = 1)\n",
    "\n",
    "# make a PLE instance.\n",
    "p = PLE(game, fps=30, frame_skip=3, num_steps=1,\n",
    "        force_fps=True, display_screen=False)\n",
    "\n",
    "p.init()\n",
    "agent = LearningAgent(p.getActionSet())"
   ]
  },
  {
   "cell_type": "code",
   "execution_count": 125,
   "metadata": {
    "scrolled": true
   },
   "outputs": [
    {
     "name": "stderr",
     "output_type": "stream",
     "text": [
      "100% (10000 of 10000) |##################| Elapsed Time: 0:03:12 Time:  0:03:12\n"
     ]
    }
   ],
   "source": [
    "#reward = 0.0\n",
    "episodes = 10000\n",
    "results = []\n",
    "\n",
    "progress = progressbar.ProgressBar()\n",
    "for episode_index in progress(range(episodes)):\n",
    "    \n",
    "    p.reset_game()\n",
    "    for timestamp in range(200):\n",
    "    \n",
    "        observation = game.getGameState()\n",
    "        action = agent.pickAction(reward, observation)\n",
    "        reward = p.act(action)\n",
    "    \n",
    "        if p.game_over():\n",
    "            #print('Eposide %4d: %4d timestamps' % (episode_index, timestamp))\n",
    "            results.append(timestamp)\n",
    "            break\n",
    "            \n",
    "            "
   ]
  },
  {
   "cell_type": "code",
   "execution_count": 126,
   "metadata": {},
   "outputs": [
    {
     "data": {
      "image/png": "[encoded data removed]",
      "text/plain": [
       "<Figure size 432x288 with 1 Axes>"
      ]
     },
     "metadata": {},
     "output_type": "display_data"
    }
   ],
   "source": [
    "plt.plot(results)\n",
    "plt.show()"
   ]
  },
  {
   "cell_type": "code",
   "execution_count": null,
   "metadata": {},
   "outputs": [],
   "source": [
    "game"
   ]
  },
  {
   "cell_type": "code",
   "execution_count": 131,
   "metadata": {},
   "outputs": [
    {
     "name": "stdout",
     "output_type": "stream",
     "text": [
      "game_over\n",
      "game_over\n",
      "game_over\n",
      "game_over\n",
      "game_over\n",
      "game_over\n",
      "game_over\n"
     ]
    }
   ],
   "source": [
    "from ple.games.flappybird import FlappyBird\n",
    "from ple import PLE\n",
    "\n",
    "\n",
    "game = Catcher(width=100, height=100, init_lives = 1)\n",
    "p = PLE(game, fps=30, frame_skip=3, num_steps=1,\n",
    "        force_fps=False, display_screen=True)\n",
    "\n",
    "p.init()\n",
    "\n",
    "for i in range(1000):\n",
    "    if p.game_over():\n",
    "        p.reset_game()\n",
    "        print ('game_over')\n",
    "    \n",
    "    observation = game.getGameState()\n",
    "    action = agent.pickAction(reward, observation)\n",
    "    reward = p.act(action)\n",
    "        \n",
    "        "
   ]
  },
  {
   "cell_type": "code",
   "execution_count": null,
   "metadata": {},
   "outputs": [],
   "source": []
  }
 ],
 "metadata": {
  "kernelspec": {
   "display_name": "Python 3",
   "language": "python",
   "name": "python3"
  },
  "language_info": {
   "codemirror_mode": {
    "name": "ipython",
    "version": 3
   },
   "file_extension": ".py",
   "mimetype": "text/x-python",
   "name": "python",
   "nbconvert_exporter": "python",
   "pygments_lexer": "ipython3",
   "version": "3.6.4"
  }
 },
 "nbformat": 4,
 "nbformat_minor": 2
}
